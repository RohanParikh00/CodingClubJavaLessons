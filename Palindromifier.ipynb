{
 "cells": [
  {
   "cell_type": "code",
   "execution_count": null,
   "metadata": {
    "collapsed": false
   },
   "outputs": [],
   "source": [
    "import pyperclip\n",
    "inStr = input('Palindromify: ')\n",
    "split = inStr.split()\n",
    "inStr = list(inStr)\n",
    "def palindromer(inList): \n",
    "    output = \"\"\n",
    "    for l in range(len(inList)):\n",
    "        output += inList[l]\n",
    "    for k in range(len(inList)-2,-1, -1):\n",
    "        output += inList[k]\n",
    "    return output\n",
    "\n",
    "outputList = list()\n",
    "output = \"\"\n",
    "for x in range(len(split)):\n",
    "    outputList.append(palindromer(split[x]))\n",
    "    output += outputList[x] + \" \"\n",
    "    \n",
    "outputSplit = output.split()\n",
    "output2 = \"\"\n",
    "for l in range(len(outputSplit)):\n",
    "    output2 += outputSplit[l] + \" \"\n",
    "for k in range(len(outputSplit)-2,-1, -1):\n",
    "    output2 += outputSplit[k] + \" \"\n",
    "\n",
    "pyperclip.copy(output2)\n",
    "spam = pyperclip.paste()"
   ]
  },
  {
   "cell_type": "code",
   "execution_count": null,
   "metadata": {
    "collapsed": true
   },
   "outputs": [],
   "source": []
  }
 ],
 "metadata": {
  "anaconda-cloud": {},
  "kernelspec": {
   "display_name": "Python [default]",
   "language": "python",
   "name": "python3"
  },
  "language_info": {
   "codemirror_mode": {
    "name": "ipython",
    "version": 3
   },
   "file_extension": ".py",
   "mimetype": "text/x-python",
   "name": "python",
   "nbconvert_exporter": "python",
   "pygments_lexer": "ipython3",
   "version": "3.5.2"
  }
 },
 "nbformat": 4,
 "nbformat_minor": 1
}
